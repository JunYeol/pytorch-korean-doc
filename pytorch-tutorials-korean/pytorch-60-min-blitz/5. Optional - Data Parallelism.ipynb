{
 "cells": [
  {
   "cell_type": "markdown",
   "metadata": {},
   "source": [
    "# 5. Optional: Data Parallelism "
   ]
  },
  {
   "cell_type": "markdown",
   "metadata": {},
   "source": [
    "이 튜토리얼 에서는 `DataParallel`을 이용해 어떻게 많은 GPU들을 사용할 수 있는지 알아본다."
   ]
  },
  {
   "cell_type": "markdown",
   "metadata": {},
   "source": [
    "만든 모델을 GPU상에서 돌리기 위해서는 아래와 같이 하면 된다."
   ]
  },
  {
   "cell_type": "raw",
   "metadata": {},
   "source": [
    "model.gpu()"
   ]
  },
  {
   "cell_type": "markdown",
   "metadata": {},
   "source": [
    "그 다음에는 모델에 사용할 데이터를 담아놓은 Tensor를 GPU로 옮겨야 한다."
   ]
  },
  {
   "cell_type": "raw",
   "metadata": {},
   "source": [
    "mytensor = my_tensor.gpu() "
   ]
  },
  {
   "cell_type": "markdown",
   "metadata": {},
   "source": [
    "단순히 `mytensor.gpu()`를 호출하는 것은 GPU에 Tensor를 복사하는 방법이 아니다. 반드시 새로운 Tensor를 만들고, 그 Tensor에 GPU에 올리는 Tensor를 할당해야 한다."
   ]
  },
  {
   "cell_type": "markdown",
   "metadata": {},
   "source": [
    "여러 개의 GPU에서 forward, backward를 하는 것은 pytorch에서 자연스럽지만, 기본적으로는 1개의 GPU에서 실행하도록 하고있다. 여러 개의 GPU를 사용하고 싶다면 아래와 같이 한다. 아래의 코드가 이번 쳅터에서 가장 중요한 부분이다."
   ]
  },
  {
   "cell_type": "raw",
   "metadata": {},
   "source": [
    "model = nn.DataParallel(model)"
   ]
  },
  {
   "cell_type": "markdown",
   "metadata": {},
   "source": [
    "## Imports and parameters "
   ]
  },
  {
   "cell_type": "markdown",
   "metadata": {},
   "source": [
    "pytorch 모듈을 가져오고, parameter들을 선언해보자."
   ]
  },
  {
   "cell_type": "code",
   "execution_count": 1,
   "metadata": {
    "collapsed": true
   },
   "outputs": [],
   "source": [
    "import torch\n",
    "import torch.nn as nn\n",
    "from torch.autograd import Variable\n",
    "from torch.utils.data import Dataset, DataLoader\n",
    "\n",
    "input_size = 5\n",
    "output_size = 2\n",
    "\n",
    "batch_size = 30\n",
    "data_size = 100"
   ]
  },
  {
   "cell_type": "markdown",
   "metadata": {},
   "source": [
    "## Dummy DataSet"
   ]
  },
  {
   "cell_type": "markdown",
   "metadata": {},
   "source": [
    "가짜 데이터셋을 랜덤함수를 이용해서 만들어보자. 이 때 반드시 `__getitem__` 메서드를 만들어야 한다."
   ]
  },
  {
   "cell_type": "code",
   "execution_count": 2,
   "metadata": {
    "collapsed": true
   },
   "outputs": [],
   "source": [
    "class RandomDataset(Dataset):\n",
    "    def __init__(self, size, length):\n",
    "        self.len = length\n",
    "        self.data = torch.randn(length, size)\n",
    "        \n",
    "    def __getitem__(self, index):\n",
    "        return self.data[index]\n",
    "    \n",
    "    def __len__(self):\n",
    "        return self.len\n",
    "    \n",
    "rand_loader = DataLoader(dataset=RandomDataset(input_size, 100),\n",
    "                         batch_size=batch_size, shuffle=True)"
   ]
  },
  {
   "cell_type": "markdown",
   "metadata": {},
   "source": [
    "## Simple Model"
   ]
  },
  {
   "cell_type": "markdown",
   "metadata": {},
   "source": [
    "간단한 모델을 만들어보자. 이 모델은 입력을 받아 linear regression을 해서 출력을 만든다. `DataParallel`은 어떤 모델도 가능하다는 걸 기억해두자."
   ]
  },
  {
   "cell_type": "markdown",
   "metadata": {},
   "source": [
    "모델을 만들 때, 모델의 입력 Tensor의 크기와 출력 Tensor의 크기을 시각적으로 보기 위해 print문을 넣을 것이다. batch rank가 0인 부분을 유심히 지켜보자."
   ]
  },
  {
   "cell_type": "code",
   "execution_count": 7,
   "metadata": {
    "collapsed": true
   },
   "outputs": [],
   "source": [
    "class Model(nn.Module):\n",
    "    def __init__(self, input_size, output_size):\n",
    "        super(Model, self).__init__()\n",
    "        self.fc = nn.Linear(input_size, output_size)\n",
    "        \n",
    "    def forward(self, input):\n",
    "        output = self.fc(input)\n",
    "        print(\"In Model: input size\", input.size(),\n",
    "              \"output size\", output.size())\n",
    "        \n",
    "        return output"
   ]
  },
  {
   "cell_type": "markdown",
   "metadata": {},
   "source": [
    "## Create Model and DataParallel"
   ]
  },
  {
   "cell_type": "markdown",
   "metadata": {},
   "source": [
    "이 부분이 이 쳅터의 핵심이다. 먼저, 모델 클래스의 인스턴스를 만들어서 여러 개의 GPU를 사용 가능한 컴퓨터인지 확인하고, 가능하다면 `nn.DataParallel`을 사용해 만든 모델이 여러 개의 GPU를 가지고 연산을 할 수 있게 만든다. 그 이후에 모델을 GPU상에 올릴 수 있다. (DataParallel은 GPU를 쓸 수 있는지 없는지 체크해서 GPU를 쓸 수 없을 때는 인자로 받은 모델과 똑같이 취급되고, GPU를 쓸 수 있다면 데이터를 나눠서 처리하는 모델이 된다.)"
   ]
  },
  {
   "cell_type": "code",
   "execution_count": 8,
   "metadata": {
    "collapsed": true
   },
   "outputs": [],
   "source": [
    "model = Model(input_size, output_size)\n",
    "if torch.cuda.device_count() > 1:\n",
    "    print(\"Let's use\", torch.cuda.device_count(), \"GPUs!\")\n",
    "    model = nn.DataParallel(model)\n",
    "    \n",
    "if torch.cuda.is_available():\n",
    "    model.gpu() # '.cuda()' and '.gpu()' are same thing.\n",
    "    \n",
    "# DataParallel은 결국 CPU의 데이터를 여러 개로 쪼개서 GPU로 보내는 건데,\n",
    "# 그냥 아래처럼 하나의 코드로 써야 편하다.\n",
    " \n",
    "# if torch.cuda.device_count > 1 and torch.cuda.is_available():\n",
    "#     model = nn.DataParallel(model).gpu()"
   ]
  },
  {
   "cell_type": "markdown",
   "metadata": {},
   "source": [
    "## Run the Model "
   ]
  },
  {
   "cell_type": "code",
   "execution_count": 9,
   "metadata": {},
   "outputs": [
    {
     "name": "stdout",
     "output_type": "stream",
     "text": [
      "In Model: input size torch.Size([30, 5]) output size torch.Size([30, 2])\n",
      "Outside: input size torch.Size([30, 5]) output_size torch.Size([30, 2])\n",
      "In Model: input size torch.Size([30, 5]) output size torch.Size([30, 2])\n",
      "Outside: input size torch.Size([30, 5]) output_size torch.Size([30, 2])\n",
      "In Model: input size torch.Size([30, 5]) output size torch.Size([30, 2])\n",
      "Outside: input size torch.Size([30, 5]) output_size torch.Size([30, 2])\n",
      "In Model: input size torch.Size([10, 5]) output size torch.Size([10, 2])\n",
      "Outside: input size torch.Size([10, 5]) output_size torch.Size([10, 2])\n"
     ]
    }
   ],
   "source": [
    "for data in rand_loader:\n",
    "    if torch.cuda.is_available():\n",
    "        input_var = Variable(data.gpu())\n",
    "    else:\n",
    "        input_var = Variable(data)\n",
    "        \n",
    "    output = model(input_var)\n",
    "    print(\"Outside: input size\", input_var.size(),\n",
    "          \"output_size\", output.size())"
   ]
  },
  {
   "cell_type": "markdown",
   "metadata": {},
   "source": [
    "## Summary "
   ]
  },
  {
   "cell_type": "markdown",
   "metadata": {},
   "source": [
    "만약에 GPU를 여러 개 사용할 수 있다면, pytorch는 자동으로 각 GPU에게 맞게 Tensor를 쪼개 mini-batch를 만들어서 나눠줄 것이다. "
   ]
  },
  {
   "cell_type": "markdown",
   "metadata": {},
   "source": [
    "DataParallel은 CPU의 데이터를 잘 나누고, 모델을 GPU 수에 맞게 복사한다. 이후 나누어진 데이터와 복사된 모델을 여러 GPU에 보내고 GPU에 존재하는 복사된 모델에게 작업 순서를 알려준다. 작업이 다 끝나면 DataParallel은 결과들을 모으고 합쳐서 사용자에게 보내줄 것이다."
   ]
  }
 ],
 "metadata": {
  "kernelspec": {
   "display_name": "Python 3",
   "language": "python",
   "name": "python3"
  },
  "language_info": {
   "codemirror_mode": {
    "name": "ipython",
    "version": 3
   },
   "file_extension": ".py",
   "mimetype": "text/x-python",
   "name": "python",
   "nbconvert_exporter": "python",
   "pygments_lexer": "ipython3",
   "version": "3.6.1"
  }
 },
 "nbformat": 4,
 "nbformat_minor": 2
}
